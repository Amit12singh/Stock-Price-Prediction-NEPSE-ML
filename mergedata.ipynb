{
 "cells": [
  {
   "cell_type": "code",
   "execution_count": null,
   "id": "a7790d0d",
   "metadata": {},
   "outputs": [
    {
     "name": "stdout",
     "output_type": "stream",
     "text": [
      "✅ All files merged successfully into 'merged_data.csv'.\n"
     ]
    }
   ],
   "source": [
    "import pandas as pd\n",
    "import glob\n",
    "import os\n",
    "from datetime import datetime\n",
    "\n",
    "# Path to folder containing CSV files\n",
    "folder_path = 'data/'\n",
    "csv_files = glob.glob(os.path.join(folder_path, '*.csv'))\n",
    "\n",
    "merged_dataframes = []\n",
    "\n",
    "for file in csv_files:\n",
    "    filename = os.path.basename(file)\n",
    "    name_only = os.path.splitext(filename)[0]  # e.g., \"01_13_2022\"\n",
    "\n",
    "    try:\n",
    "        # Correct format for MM_DD_YYYY\n",
    "        date_obj = datetime.strptime(name_only, '%m_%d_%Y')\n",
    "        formatted_date = date_obj.strftime('%Y-%m-%d')  # Output format\n",
    "\n",
    "        # Load CSV and add the date column\n",
    "        df = pd.read_csv(file)\n",
    "        df['File_Date'] = formatted_date\n",
    "        merged_dataframes.append(df)\n",
    "\n",
    "    except Exception as e:\n",
    "        print(f\"Error processing file '{file}': {e}\")\n",
    "\n",
    "# Merge and save\n",
    "if merged_dataframes:\n",
    "    merged_df = pd.concat(merged_dataframes, ignore_index=True)\n",
    "    merged_df.to_csv('merged_data.csv', index=False)\n",
    "    print(\" All files merged successfully into 'merged_data.csv'.\")\n",
    "else:\n",
    "    print(\" No data was merged. Please check for format issues.\")\n"
   ]
  }
 ],
 "metadata": {
  "kernelspec": {
   "display_name": "Python 3",
   "language": "python",
   "name": "python3"
  },
  "language_info": {
   "codemirror_mode": {
    "name": "ipython",
    "version": 3
   },
   "file_extension": ".py",
   "mimetype": "text/x-python",
   "name": "python",
   "nbconvert_exporter": "python",
   "pygments_lexer": "ipython3",
   "version": "3.10.11"
  }
 },
 "nbformat": 4,
 "nbformat_minor": 5
}
